{
 "cells": [
  {
   "cell_type": "code",
   "execution_count": 19,
   "metadata": {
    "collapsed": false
   },
   "outputs": [],
   "source": [
    "def score_matrix(seq1,seq2):\n",
    "    \n",
    "    nrows = len(seq1)+1\n",
    "    ncols = len(seq2)+1\n",
    "    \n",
    "    # initialize score matrix\n",
    "    score_matrix = [[0 for x in range(ncols)] for x in range(nrows)]\n",
    "    traceback_matrix = [[0 for x in range(ncols)] for x in range(nrows)]\n",
    "    \n",
    "    # calculate score matrix\n",
    "    for i in range(nrows):\n",
    "        for j in range(ncols):\n",
    "            \n",
    "            if i==j==0: # can optimize this slighty to not check condition\n",
    "                score_matrix[i][j]=0\n",
    "                traceback_matrix[i][j]=\"done\"\n",
    "            else:\n",
    "                score_matrix[i][j],traceback_matrix[i][j] = calculate_score(score_matrix, seq1, seq2, i, j)\n",
    "    \n",
    "    return score_matrix,traceback_matrix\n",
    "    \n",
    "    \n",
    "def calculate_score(score_matrix, seq1, seq2, i, j):\n",
    "    \"\"\"\n",
    "    For the position in a global alignment matrix, i>0 and j>0\n",
    "    +10 for match, -2 for mismatch, -5 for gap\n",
    "    If you are in row 0, always return gap and left\n",
    "    If you are in column zero, always return gap and up\n",
    "    If not, calculate the score for the three boxes around the cell,\n",
    "    pick the best one and return the appropriate value and traceback value\n",
    "    \"\"\"\n",
    "    gap = -5\n",
    "    match = 10\n",
    "    mismatch = 2\n",
    "    \n",
    "    if i==0:\n",
    "        return score_matrix[i][j-1] + gap,\"left\"\n",
    "    elif j==0:\n",
    "        return score_matrix[i-1][j] + gap,\"up\"\n",
    "    else:\n",
    "        from_diag = score_matrix[i-1][j-1] + (+match if seq1[i-1] == seq2[j-1] else -mismatch)\n",
    "        from_up = score_matrix[i-1][j] + gap\n",
    "        from_left = score_matrix[i][j-1] + gap\n",
    "        \n",
    "        values = [from_diag,from_up,from_left]\n",
    "        options = [\"diag\",\"up\",\"left\"]\n",
    "        index_max=max(range(len(values)),key=values.__getitem__)\n",
    "        \n",
    "        return values[index_max],options[index_max]\n",
    "    \n",
    "def traceback(traceback_matrix,seq1,seq2):\n",
    "    \"\"\"\n",
    "    accepts a traceback matrix and two sequences from which it was derived\n",
    "    and outputs an alignment\n",
    "    seq1 is on the rows of the score matrix\n",
    "    seq2 is on the columns of the score matrix\n",
    "    \"\"\"\n",
    "    nrows = len(traceback_matrix)\n",
    "    ncols = len(traceback_matrix[0])\n",
    "    \n",
    "    i,j = nrows-1,ncols-1\n",
    "    aligned_seq1=[]\n",
    "    aligned_seq2=[] ## indexing is shit here must fix\n",
    "    \n",
    "    while i>0 or j>0:\n",
    "        if traceback_matrix[i][j]==\"diag\":\n",
    "            aligned_seq1.insert(0,seq1[i-1])\n",
    "            aligned_seq2.insert(0,seq2[j-1])\n",
    "            i-=1\n",
    "            j-=1\n",
    "        elif traceback_matrix[i][j]==\"left\":\n",
    "            aligned_seq1.insert(0,\"-\")\n",
    "            aligned_seq2.insert(0,seq2[j-1])\n",
    "            j-=1\n",
    "        elif traceback_matrix[i][j]==\"up\":\n",
    "            aligned_seq1.insert(0,seq1[i-1])\n",
    "            aligned_seq2.insert(0,\"-\")\n",
    "            i-=1\n",
    "            \n",
    "    return aligned_seq1,aligned_seq2\n",
    "    "
   ]
  },
  {
   "cell_type": "code",
   "execution_count": 20,
   "metadata": {
    "collapsed": false
   },
   "outputs": [],
   "source": [
    "seq1=\"cattcac\"\n",
    "seq2=\"ctcgcagc\"\n",
    "a,b=score_matrix(seq1,seq2)"
   ]
  },
  {
   "cell_type": "code",
   "execution_count": 21,
   "metadata": {
    "collapsed": false
   },
   "outputs": [
    {
     "data": {
      "text/plain": [
       "[['done', 'left', 'left', 'left', 'left', 'left', 'left', 'left', 'left'],\n",
       " ['up', 'diag', 'left', 'diag', 'left', 'diag', 'left', 'left', 'diag'],\n",
       " ['up', 'up', 'diag', 'diag', 'diag', 'diag', 'diag', 'left', 'left'],\n",
       " ['up', 'up', 'diag', 'left', 'left', 'left', 'up', 'diag', 'diag'],\n",
       " ['up', 'up', 'diag', 'diag', 'diag', 'diag', 'diag', 'diag', 'diag'],\n",
       " ['up', 'diag', 'up', 'diag', 'left', 'diag', 'left', 'left', 'diag'],\n",
       " ['up', 'up', 'up', 'up', 'diag', 'diag', 'diag', 'left', 'left'],\n",
       " ['up', 'diag', 'up', 'diag', 'diag', 'diag', 'up', 'diag', 'diag']]"
      ]
     },
     "execution_count": 21,
     "metadata": {},
     "output_type": "execute_result"
    }
   ],
   "source": [
    "b"
   ]
  },
  {
   "cell_type": "code",
   "execution_count": 22,
   "metadata": {
    "collapsed": false
   },
   "outputs": [
    {
     "data": {
      "text/plain": [
       "(['c', 'a', 't', '-', 't', 'c', 'a', '-', 'c'],\n",
       " ['c', '-', 't', 'c', 'g', 'c', 'a', 'g', 'c'])"
      ]
     },
     "execution_count": 22,
     "metadata": {},
     "output_type": "execute_result"
    }
   ],
   "source": [
    "traceback(b,seq1,seq2)"
   ]
  }
 ],
 "metadata": {
  "anaconda-cloud": {},
  "kernelspec": {
   "display_name": "Python [default]",
   "language": "python",
   "name": "python3"
  },
  "language_info": {
   "codemirror_mode": {
    "name": "ipython",
    "version": 3
   },
   "file_extension": ".py",
   "mimetype": "text/x-python",
   "name": "python",
   "nbconvert_exporter": "python",
   "pygments_lexer": "ipython3",
   "version": "3.5.2"
  }
 },
 "nbformat": 4,
 "nbformat_minor": 0
}
